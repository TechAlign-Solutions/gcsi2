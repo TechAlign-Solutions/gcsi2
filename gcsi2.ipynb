# 1. Imports & Config
import pandas as pd
import numpy as np
import requests
import ipywidgets as widgets
from IPython.display import display
import plotly.express as px

# 2. Data Fetching Stubs
def fetch_ucdp(start='2000-01-01'):
    """Fetch UCDP monthly conflict counts via API or CSV."""
    # TODO: Replace with real API calls
    dates = pd.date_range(start, pd.Timestamp.today(), freq='MS')
    return pd.Series(np.random.poisson(5, len(dates)), index=dates, name='UCDP')

def fetch_acled(start='2000-01-01'):
    """Fetch ACLED monthly event counts."""
    dates = pd.date_range(start, pd.Timestamp.today(), freq='MS')
    return pd.Series(np.random.poisson(12, len(dates)), index=dates, name='ACLED')

# 3. Normalization
def normalize(series: pd.Series) -> pd.Series:
    rng = series.min(), series.max()
    return (series - rng[0]) / (rng[1] - rng[0]) * 100

# 4. GCSI2 Calculation
def compute_gcsi2(start_date='2000-01-01'):
    ucdp = fetch_ucdp(start_date)
    acled = fetch_acled(start_date)
    u_norm = normalize(ucdp)
    a_norm = normalize(acled)
    conflict_index = 0.6 * a_norm + 0.4 * u_norm  # 60/40 weighting
    # Here you would fetch & normalize other 6 components similarly...
    # For demo, assume other component is mean of these two:
    other = (u_norm + a_norm) / 2  
    weights = {'conflict':0.3,'other':0.7}
    gcsi_plus = weights['conflict']*conflict_index + weights['other']*other
    gcsi2 = 100 - gcsi_plus
    df = pd.DataFrame({
        'UCDP_norm': u_norm,
        'ACLED_norm': a_norm,
        'ConflictIndex': conflict_index,
        'GCSI2': gcsi2
    })
    return df

# 5. Voilà UI
date_picker = widgets.DatePicker(description='Start Date', value=pd.to_datetime('2000-01-01'))
button = widgets.Button(description='Run Model')

def on_click(btn):
    df = compute_gcsi2(start_date=date_picker.value.isoformat())
    fig = px.line(df, y='GCSI2', title='GCSI2 Over Time')
    display(fig)
    display(df.tail())

button.on_click(on_click)
display(widgets.VBox([date_picker, button]))
