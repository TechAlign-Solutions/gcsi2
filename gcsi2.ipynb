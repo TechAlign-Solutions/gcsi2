{
 "cells": [
  {
   "cell_type": "markdown",
   "metadata": {},
   "source": [
    "# GCSI2 Model Notebook\n",
    "This notebook fetches component data, computes GCSI+, and displays GCSI2."
   ]
  },
  {
   "cell_type": "code",
   "execution_count": null,
   "metadata": {},
   "outputs": [],
   "source": [
    "# Imports\n",
    "import pandas as pd\n",
    "import numpy as np\n",
    "import plotly.express as px\n",
    "from google.cloud import bigquery\n",
    "import gspread\n",
    "from oauth2client.service_account import ServiceAccountCredentials"
   ]
  },
  {
   "cell_type": "code",
   "execution_count": null,
   "metadata": {},
   "outputs": [],
   "source": [
    "# Data Fetching Stubs (replace with real APIs)\n",
    "def fetch_ucdp(start='2000-01-01'):\n",
    "    dates = pd.date_range(start, pd.Timestamp.today(), freq='MS')\n",
    "    return pd.Series(np.random.poisson(5, len(dates)), index=dates, name='UCDP')\n",
    "\n",
    "def fetch_acled(start='2000-01-01'):\n",
    "    dates = pd.date_range(start, pd.Timestamp.today(), freq='MS')\n",
    "    return pd.Series(np.random.poisson(12, len(dates)), index=dates, name='ACLED')"
   ]
  },
  {
   "cell_type": "code",
   "execution_count": null,
   "metadata": {},
   "outputs": [],
   "source": [
    "# Normalization function\n",
    "def normalize(series: pd.Series) -> pd.Series:\n",
    "    return (series - series.min())/(series.max() - series.min())*100"
   ]
  },
  {
   "cell_type": "code",
   "execution_count": null,
   "metadata": {},
   "outputs": [],
   "source": [
    "# Compute GCSI2\n",
    "def compute_gcsi2(start_date='2000-01-01'):\n",
    "    ucdp = fetch_ucdp(start_date)\n",
    "    acled = fetch_acled(start_date)\n",
    "    u_norm = normalize(ucdp)\n",
    "    a_norm = normalize(acled)\n",
    "    conflict_idx = 0.6 * a_norm + 0.4 * u_norm  # 60/40 weighting\n",
    "    # placeholder for other components\n",
    "    other = (u_norm + a_norm) / 2\n",
    "    gcsi_plus = 0.3 * conflict_idx + 0.7 * other\n",
    "    gcsi2 = 100 - gcsi_plus\n",
    "    return pd.DataFrame({\n",
    "        'U_norm': u_norm,\n",
    "        'A_norm': a_norm,\n",
    "        'ConflictIdx': conflict_idx,\n",
    "        'GCSI2': gcsi2\n",
    "    })"
   ]
  },
  {
   "cell_type": "code",
   "execution_count": null,
   "metadata": {},
   "outputs": [],
   "source": [
    "# Run model and plot\n",
    "df = compute_gcsi2('2000-01-01')\n",
    "fig = px.line(df, y=['ConflictIdx','GCSI2'], title='GCSI2 Over Time')\n",
    "fig.show()"
   ]
  }
 ],
 "metadata": {
  "kernelspec": {
   "display_name": "Python 3",
   "language": "python",
   "name": "python3"
  }
 },
 "nbformat": 4,
 "nbformat_minor": 5
}
